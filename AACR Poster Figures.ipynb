{
 "cells": [
  {
   "cell_type": "code",
   "execution_count": 71,
   "metadata": {
    "collapsed": false
   },
   "outputs": [],
   "source": [
    "import pandas as pd\n",
    "import glob as glob\n",
    "import numpy as np\n",
    "import matplotlib.pyplot as plt\n",
    "from matplotlib.font_manager import FontProperties\n",
    "%matplotlib inline\n",
    "\n",
    "tableau10 = [(78, 121, 167), (242, 142, 43), (225, 87, 89), \n",
    "             (118, 183, 178), (89, 161, 79), (237, 201, 72), \n",
    "             (176, 122, 161), (225, 157, 167), (156, 117, 95), \n",
    "             (186, 176, 172)]\n",
    "\n",
    "for i in range(len(tableau10)):    \n",
    "    r, g, b = tableau10[i]    \n",
    "    tableau10[i] = (r / 255., g / 255., b / 255.)\n",
    "    \n",
    "from pylab import rcParams\n",
    "rcParams['font.family'] = 'Roboto'\n",
    "font0 = FontProperties()\n",
    "font0.set_weight('light')\n",
    "#font0.set_weight(1000)\n"
   ]
  },
  {
   "cell_type": "markdown",
   "metadata": {},
   "source": [
    "In this IPython notebook, we will explore the top target-related genes in each cohort. Further, we will break each gene down by whether we had sensitivity value, resistance value, or prognostic value."
   ]
  },
  {
   "cell_type": "markdown",
   "metadata": {},
   "source": [
    "## VanAllen, Miao metastatic melanoma cohort (n = 110)"
   ]
  },
  {
   "cell_type": "code",
   "execution_count": 72,
   "metadata": {
    "collapsed": false
   },
   "outputs": [],
   "source": [
    "allFiles = glob.glob('mel-ipi/output/phial2-target2/*/*detailed.txt')\n",
    "df = pd.DataFrame()\n",
    "list_ = []\n",
    "\n",
    "for file_ in allFiles:\n",
    "    df_ = pd.read_csv(file_, index_col = None, sep = '\\t', comment = '#', low_memory = False)\n",
    "    \n",
    "    # Quick fix for fusions\n",
    "    sample_ = df_[df_['Variant_Classification'] == 'Missense_Mutation'].ix[:,'Tumor_Sample_Barcode'].unique().tolist()[0]\n",
    "    df_['Tumor_Sample_Barcode'] = sample_\n",
    "    df_ = df_.drop_duplicates(subset = ['Gene', 'Variant_Classification', 'Alteration'])\n",
    "    list_.append(df_)\n",
    "\n",
    "df = pd.concat(list_, ignore_index = True)\n",
    "\n",
    "# Quick fix for CNA....\n",
    "index_ = df[df['bin'] == 'Investigate TARGET Actionability'].index.get_values()\n",
    "df.ix[index_, 'Score_bin'] = 'Investigate TARGET Actionability'\n",
    "\n",
    "for _index_ in index_:\n",
    "    if abs(df.ix[_index_,'Segment_Mean']) > 1:\n",
    "        df.ix[_index_,'bin'] = 1\n",
    "    else:\n",
    "        df.ix[_index_,'bin'] = 1.25\n",
    "        \n",
    "# Quick fix for mutational burden...\n",
    "#index_ = df[df['Variant_Classification'] == \"Coding Mutational Burden TCGA percentile\"].index.get_values()\n",
    "#_index_ = df.ix[index_,:][(df.ix[index_, 'bin'].astype(float) <= float(1))].index.get_values()\n",
    "#df.ix[_index_, 'Score_bin'] = \"High Priority\"\n",
    "#df.ix[_index_, 'Gene'] = \"Mut Burden\"\n",
    "#df.ix[_index_, 'Variant_Classification'] = \"Coding Mutational Burden TCGA Tissue Specific percentile\"\n",
    "\n",
    "df_clin = df[df['bin'].astype(float) <= float(2)]\n",
    "\n",
    "genes = df_clin['Gene'].value_counts().head(15).index.get_values().tolist()\n",
    "values = df_clin['Gene'].value_counts().head(15).tolist()\n",
    "\n",
    "df_2 = df_clin\n",
    "genes_2 = genes\n",
    "values_2 = values"
   ]
  },
  {
   "cell_type": "code",
   "execution_count": 73,
   "metadata": {
    "collapsed": false,
    "scrolled": false
   },
   "outputs": [],
   "source": [
    "allFiles = glob.glob('mel-ipi/output/phial1-target1/*/*detailed.txt')\n",
    "df = pd.DataFrame()\n",
    "list_ = []\n",
    "\n",
    "for file_ in allFiles:\n",
    "    df_ = pd.read_csv(file_, index_col = None, sep = '\\t', comment = '#', low_memory = False)\n",
    "    list_.append(df_)\n",
    "\n",
    "df = pd.concat(list_, ignore_index = True)\n",
    "\n",
    "df_clin = df[df['bin'].astype(float) <= float(2)]\n",
    "\n",
    "values_1_2 = df_clin['Gene'].value_counts()[genes_2].fillna(0)\n",
    "\n",
    "genes = df_clin['Gene'].value_counts().head(15).index.get_values().tolist()\n",
    "values = df_clin['Gene'].value_counts().head(15).tolist()\n",
    "\n",
    "df_1 = df_clin\n",
    "genes_1 = genes\n",
    "values_1 = values"
   ]
  },
  {
   "cell_type": "code",
   "execution_count": 74,
   "metadata": {
    "collapsed": false
   },
   "outputs": [],
   "source": [
    "delta_value = [i - j for i, j in zip(values_2, values_1_2)]"
   ]
  },
  {
   "cell_type": "markdown",
   "metadata": {},
   "source": [
    "### Popular Genes"
   ]
  },
  {
   "cell_type": "code",
   "execution_count": 75,
   "metadata": {
    "collapsed": false
   },
   "outputs": [
    {
     "data": {
      "image/png": "[encoded data removed]",
      "text/plain": [
       "<matplotlib.figure.Figure at 0x10f0aa110>"
      ]
     },
     "metadata": {},
     "output_type": "display_data"
    }
   ],
   "source": [
    "fig = plt.figure(figsize = (12,4))\n",
    "\n",
    "ax = plt.subplot()\n",
    "ax.spines[\"top\"].set_visible(False)    \n",
    "ax.spines[\"bottom\"].set_visible(False)    \n",
    "ax.spines[\"right\"].set_visible(False)    \n",
    "ax.spines[\"left\"].set_visible(False)\n",
    "plt.tick_params(axis=\"both\", which=\"both\", bottom=\"off\", top=\"off\",\n",
    "    labelbottom=\"on\", left=\"off\", right=\"off\", labelleft=\"on\")  \n",
    "\n",
    "plt.bar(range(0, len(genes)), values_1_2, \n",
    "        width = 1.0, color = tableau10[1], align=\"center\",\n",
    "        label= 'Identified in PHIAL1-TARGET1 \\n& PHIAL2-TARGET2')\n",
    "plt.bar(range(0, len(genes)), delta_value, \n",
    "        width = 1.0, color = tableau10[5], align=\"center\", \n",
    "        label= 'Identified only in PHIAL2-TARGET2', bottom = values_1_2)\n",
    "\n",
    "#plt.title('Top 15 mutated genes in Melanoma cohort', fontsize = 16)\n",
    "plt.ylabel('# of putatively actionable or \\n biologically relevant alterations', fontsize = 13)\n",
    "plt.xlabel('Gene', fontsize = 14)\n",
    "\n",
    "plt.xlim(-0.75,14.75)\n",
    "ax.set_xticks(range(0, len(genes)))\n",
    "ax.set_xticklabels(genes)\n",
    "plt.xticks(rotation=30)\n",
    "ax.xaxis.set_tick_params(labelsize=11)\n",
    "\n",
    "plt.legend(frameon=False)\n",
    "#plt.show()\n",
    "plt.savefig('melanoma_genes.pdf', bbox_inches='tight')"
   ]
  },
  {
   "cell_type": "markdown",
   "metadata": {},
   "source": [
    "### Actionable Patients"
   ]
  },
  {
   "cell_type": "code",
   "execution_count": 76,
   "metadata": {
    "collapsed": false
   },
   "outputs": [
    {
     "name": "stdout",
     "output_type": "stream",
     "text": [
      "Number of actionable patients in phial1: 102\n",
      "Number of actionable patients in phial2: 107\n"
     ]
    }
   ],
   "source": [
    "patients_actionable_1 = len(df_1['Tumor_Sample_Barcode'].unique())\n",
    "frac_actionable_1 = float(patients_actionable_1) / float(110)\n",
    "\n",
    "patients_actionable_2 = len(df_2['Tumor_Sample_Barcode'].unique())\n",
    "frac_actionable_2 = float(patients_actionable_2) / float(110)\n",
    "frac_notactionable = float(1) - frac_actionable_2\n",
    "\n",
    "delta_actionable = frac_actionable_2 - frac_actionable_1\n",
    "\n",
    "print 'Number of actionable patients in phial1:', str(patients_actionable_1)\n",
    "print 'Number of actionable patients in phial2:', str(patients_actionable_2)\n",
    "#print 'Not Actionable', str(not_actionable)"
   ]
  },
  {
   "cell_type": "code",
   "execution_count": 77,
   "metadata": {
    "collapsed": false
   },
   "outputs": [
    {
     "data": {
      "image/png": "[encoded data removed]",
      "text/plain": [
       "<matplotlib.figure.Figure at 0x1171b7c10>"
      ]
     },
     "metadata": {},
     "output_type": "display_data"
    }
   ],
   "source": [
    "fig = plt.figure(figsize = (14,2))\n",
    "\n",
    "ax = plt.subplot()\n",
    "ax.spines[\"top\"].set_visible(False)    \n",
    "ax.spines[\"bottom\"].set_visible(False)    \n",
    "ax.spines[\"right\"].set_visible(False)    \n",
    "ax.spines[\"left\"].set_visible(False)\n",
    "plt.tick_params(axis=\"both\", which=\"both\", bottom=\"off\", top=\"off\",\n",
    "    labelbottom=\"off\", left=\"off\", right=\"off\", labelleft=\"off\") \n",
    "\n",
    "plt.barh(0.5, frac_actionable_1, color = tableau10[1], align = 'center')\n",
    "plt.barh(0.5, delta_actionable, color = tableau10[5], left = frac_actionable_1, align = 'center')\n",
    "plt.barh(0.5, frac_notactionable, color = tableau10[9], left = frac_actionable_2, align = 'center')\n",
    "\n",
    "text1 = str(patients_actionable_1) + ' samples (' + str(round(frac_actionable_1*100,1)) + '%)'\n",
    "plt.text(frac_actionable_1 - 0.55, 0.40, text1,\n",
    "        fontsize = 14)\n",
    "plt.text(frac_actionable_2 - 0.025, 0.40, '5', fontsize = 14)\n",
    "\n",
    "plt.xlim(0,1.05)\n",
    "plt.ylim(-.01,1.5)\n",
    "\n",
    "plt.title('Metastatic Melanoma Tumor Samples \\n with at least 1 TARGET related Alteration', \n",
    "          fontsize = 14, y = 0.70)\n",
    "plt.legend()\n",
    "\n",
    "#plt.show()\n",
    "plt.savefig('melanoma_samples.pdf', bbox_inches='tight')"
   ]
  },
  {
   "cell_type": "code",
   "execution_count": 78,
   "metadata": {
    "collapsed": true
   },
   "outputs": [],
   "source": [
    "df_melanoma_11 = df_1\n",
    "df_melanoma_22 = df_2"
   ]
  },
  {
   "cell_type": "markdown",
   "metadata": {},
   "source": [
    "## Robinson, metastatic castrate resistant prostate cancer cohort (n = 150)"
   ]
  },
  {
   "cell_type": "code",
   "execution_count": 79,
   "metadata": {
    "collapsed": false
   },
   "outputs": [],
   "source": [
    "allFiles = glob.glob('su2c/output/phial2-target2/*/*detailed.txt')\n",
    "df = pd.DataFrame()\n",
    "list_ = []\n",
    "\n",
    "for file_ in allFiles:\n",
    "    df_ = pd.read_csv(file_, index_col = None, sep = '\\t', comment = '#', low_memory = False)\n",
    "    \n",
    "    # Quick fix for fusions\n",
    "    sample_ = df_[df_['Variant_Classification'] == 'Missense_Mutation'].ix[:,'Tumor_Sample_Barcode'].unique().tolist()[0]\n",
    "    df_['Tumor_Sample_Barcode'] = sample_\n",
    "    df_ = df_.drop_duplicates(subset = ['Gene', 'Variant_Classification', 'Alteration'])\n",
    "    list_.append(df_)\n",
    "\n",
    "df = pd.concat(list_, ignore_index = True)\n",
    "\n",
    "# Quick fix for CNA....\n",
    "index_ = df[df['bin'] == 'Investigate TARGET Actionability'].index.get_values()\n",
    "df.ix[index_, 'Score_bin'] = 'Investigate TARGET Actionability'\n",
    "\n",
    "for _index_ in index_:\n",
    "    if abs(df.ix[_index_,'Segment_Mean']) > 1:\n",
    "        df.ix[_index_,'bin'] = 1\n",
    "    else:\n",
    "        df.ix[_index_,'bin'] = 1.25\n",
    "        \n",
    "# Quick fix for mutational burden...\n",
    "#index_ = df[df['Variant_Classification'] == \"Coding Mutational Burden TCGA percentile\"].index.get_values()\n",
    "#_index_ = df.ix[index_,:][(df.ix[index_, 'bin'].astype(float) <= float(1))].index.get_values()\n",
    "#df.ix[_index_, 'Score_bin'] = \"High Priority\"\n",
    "#df.ix[_index_, 'Gene'] = \"Mut Burden\"\n",
    "#df.ix[_index_, 'Variant_Classification'] = \"Coding Mutational Burden TCGA Tissue Specific percentile\"\n",
    "\n",
    "df_clin = df[df['bin'].astype(float) <= float(2)]\n",
    "\n",
    "genes = df_clin['Gene'].value_counts().head(15).index.get_values().tolist()\n",
    "values = df_clin['Gene'].value_counts().head(15).tolist()\n",
    "\n",
    "df_2 = df_clin\n",
    "genes_2 = genes\n",
    "values_2 = values"
   ]
  },
  {
   "cell_type": "code",
   "execution_count": 80,
   "metadata": {
    "collapsed": true
   },
   "outputs": [],
   "source": [
    "allFiles = glob.glob('su2c/output/phial1-target1/*/*detailed.txt')\n",
    "df = pd.DataFrame()\n",
    "list_ = []\n",
    "\n",
    "for file_ in allFiles:\n",
    "    df_ = pd.read_csv(file_, index_col = None, sep = '\\t', comment = '#', low_memory = False)\n",
    "    list_.append(df_)\n",
    "\n",
    "df = pd.concat(list_, ignore_index = True)\n",
    "\n",
    "df_clin = df[df['bin'].astype(float) <= float(2)]\n",
    "\n",
    "values_1_2 = df_clin['Gene'].value_counts()[genes_2].fillna(0)\n",
    "\n",
    "genes = df_clin['Gene'].value_counts().head(15).index.get_values().tolist()\n",
    "values = df_clin['Gene'].value_counts().head(15).tolist()\n",
    "\n",
    "df_1 = df_clin\n",
    "genes_1 = genes\n",
    "values_1 = values"
   ]
  },
  {
   "cell_type": "code",
   "execution_count": 81,
   "metadata": {
    "collapsed": true
   },
   "outputs": [],
   "source": [
    "delta_value = [i - j for i, j in zip(values_2, values_1_2)]"
   ]
  },
  {
   "cell_type": "markdown",
   "metadata": {},
   "source": [
    "### Popular Genes"
   ]
  },
  {
   "cell_type": "code",
   "execution_count": 86,
   "metadata": {
    "collapsed": false
   },
   "outputs": [
    {
     "data": {
      "image/png": "[encoded data removed]",
      "text/plain": [
       "<matplotlib.figure.Figure at 0x11699c890>"
      ]
     },
     "metadata": {},
     "output_type": "display_data"
    }
   ],
   "source": [
    "fig = plt.figure(figsize = (12,4))\n",
    "\n",
    "ax = plt.subplot()\n",
    "ax.spines[\"top\"].set_visible(False)    \n",
    "ax.spines[\"bottom\"].set_visible(False)    \n",
    "ax.spines[\"right\"].set_visible(False)    \n",
    "ax.spines[\"left\"].set_visible(False)\n",
    "plt.tick_params(axis=\"both\", which=\"both\", bottom=\"off\", top=\"off\",\n",
    "    labelbottom=\"on\", left=\"off\", right=\"off\", labelleft=\"on\")  \n",
    "\n",
    "plt.bar(range(0, len(genes)), values_1_2, \n",
    "        width = 1.0, color = tableau10[1], align=\"center\", \n",
    "        label= 'Identified in PHIAL v1-TARGET v1 \\n& PHIAL v2-TARGET v2')\n",
    "plt.bar(range(0, len(genes)), delta_value, \n",
    "        width = 1.0, color = tableau10[5], align=\"center\", \n",
    "        label= 'Identified only in PHIAL v2-TARGET v2', bottom = values_1_2)\n",
    "\n",
    "#plt.title('Top 15 mutated genes in Melanoma cohort', fontsize = 16)\n",
    "#plt.ylabel('# of putatively actionable or \\n biologically relevant alterations', fontsize = 13)\n",
    "plt.xlabel('Gene', fontsize = 14)\n",
    "\n",
    "plt.xlim(-0.75,14.75)\n",
    "ax.set_xticks(range(0, len(genes)))\n",
    "ax.set_xticklabels(genes)\n",
    "plt.xticks(rotation=30)\n",
    "\n",
    "#plt.legend(frameon=False)\n",
    "plt.savefig('prostate_genes.pdf', bbox_inches='tight')"
   ]
  },
  {
   "cell_type": "markdown",
   "metadata": {},
   "source": [
    "### Actionable Patients"
   ]
  },
  {
   "cell_type": "code",
   "execution_count": 83,
   "metadata": {
    "collapsed": false
   },
   "outputs": [
    {
     "name": "stdout",
     "output_type": "stream",
     "text": [
      "Number of actionable patients in phial1: 143\n",
      "Number of actionable patients in phial2: 148\n"
     ]
    }
   ],
   "source": [
    "patients_actionable_1 = len(df_1['Tumor_Sample_Barcode'].unique())\n",
    "frac_actionable_1 = float(patients_actionable_1) / float(150)\n",
    "\n",
    "patients_actionable_2 = len(df_2['Tumor_Sample_Barcode'].unique())\n",
    "frac_actionable_2 = float(patients_actionable_2) / float(150)\n",
    "frac_notactionable = float(1) - frac_actionable_2\n",
    "\n",
    "delta_actionable = frac_actionable_2 - frac_actionable_1\n",
    "\n",
    "print 'Number of actionable patients in phial1:', str(patients_actionable_1)\n",
    "print 'Number of actionable patients in phial2:', str(patients_actionable_2)\n",
    "#print 'Not Actionable', str(not_actionable)"
   ]
  },
  {
   "cell_type": "code",
   "execution_count": 84,
   "metadata": {
    "collapsed": false
   },
   "outputs": [
    {
     "data": {
      "image/png": "[encoded data removed]",
      "text/plain": [
       "<matplotlib.figure.Figure at 0x1153db210>"
      ]
     },
     "metadata": {},
     "output_type": "display_data"
    }
   ],
   "source": [
    "fig = plt.figure(figsize = (14,2))\n",
    "\n",
    "ax = plt.subplot()\n",
    "ax.spines[\"top\"].set_visible(False)    \n",
    "ax.spines[\"bottom\"].set_visible(False)    \n",
    "ax.spines[\"right\"].set_visible(False)    \n",
    "ax.spines[\"left\"].set_visible(False)\n",
    "plt.tick_params(axis=\"both\", which=\"both\", bottom=\"off\", top=\"off\",\n",
    "    labelbottom=\"off\", left=\"off\", right=\"off\", labelleft=\"off\") \n",
    "\n",
    "plt.barh(0.5, frac_actionable_1, color = tableau10[1], align = 'center')\n",
    "plt.barh(0.5, delta_actionable, color = tableau10[5], left = frac_actionable_1, align = 'center')\n",
    "plt.barh(0.5, frac_notactionable, color = tableau10[9], left = frac_actionable_2, align = 'center')\n",
    "\n",
    "text1 = str(patients_actionable_1) + ' samples (' + str(round(frac_actionable_1*100,1)) + '%)'\n",
    "plt.text(frac_actionable_1 - 0.55, 0.40, text1,\n",
    "        fontsize = 14)\n",
    "plt.text(frac_actionable_2 - 0.025, 0.40, '5', fontsize = 14)\n",
    "\n",
    "plt.xlim(0,1.05)\n",
    "plt.ylim(-.01,1.5)\n",
    "\n",
    "plt.title('Metastatic, Castration-Resistant Prostate Tumor Samples \\n with at least 1 TARGET related Alteration', \n",
    "          fontsize = 14, y = 0.70)\n",
    "plt.legend()\n",
    "\n",
    "#plt.show()\n",
    "plt.savefig('prostate_samples.pdf', bbox_inches='tight')"
   ]
  },
  {
   "cell_type": "code",
   "execution_count": 85,
   "metadata": {
    "collapsed": true
   },
   "outputs": [],
   "source": [
    "df_prostate_11 = df_1\n",
    "df_prostate_22 = df_2"
   ]
  },
  {
   "cell_type": "markdown",
   "metadata": {},
   "source": [
    "## Combined Figure"
   ]
  },
  {
   "cell_type": "markdown",
   "metadata": {},
   "source": [
    "### Import PHIAL1 - TARGET 2"
   ]
  },
  {
   "cell_type": "code",
   "execution_count": 26,
   "metadata": {
    "collapsed": true
   },
   "outputs": [],
   "source": [
    "allFiles = glob.glob('mel-ipi/output/phial1-target2/*/*detailed.txt')\n",
    "df = pd.DataFrame()\n",
    "list_ = []\n",
    "\n",
    "for file_ in allFiles:\n",
    "    df_ = pd.read_csv(file_, index_col = None, sep = '\\t', comment = '#', low_memory = False)\n",
    "    \n",
    "    # Quick fix for fusions\n",
    "    sample_ = df_[df_['Variant_Classification'] == 'Missense_Mutation'].ix[:,'Tumor_Sample_Barcode'].unique().tolist()[0]\n",
    "    df_['Tumor_Sample_Barcode'] = sample_\n",
    "    df_ = df_.drop_duplicates(subset = ['Gene', 'Variant_Classification', 'Alteration'])\n",
    "    list_.append(df_)\n",
    "\n",
    "df = pd.concat(list_, ignore_index = True)\n",
    "\n",
    "df_clin = df[df['bin'].astype(float) <= float(2)]\n",
    "df_melanoma_12 = df_clin"
   ]
  },
  {
   "cell_type": "code",
   "execution_count": 27,
   "metadata": {
    "collapsed": true
   },
   "outputs": [],
   "source": [
    "allFiles = glob.glob('su2c/output/phial1-target2/*/*detailed.txt')\n",
    "df = pd.DataFrame()\n",
    "list_ = []\n",
    "\n",
    "for file_ in allFiles:\n",
    "    df_ = pd.read_csv(file_, index_col = None, sep = '\\t', comment = '#', low_memory = False)\n",
    "    \n",
    "    # Quick fix for fusions\n",
    "    sample_ = df_[df_['Variant_Classification'] == 'Missense_Mutation'].ix[:,'Tumor_Sample_Barcode'].unique().tolist()[0]\n",
    "    df_['Tumor_Sample_Barcode'] = sample_\n",
    "    df_ = df_.drop_duplicates(subset = ['Gene', 'Variant_Classification', 'Alteration'])\n",
    "    list_.append(df_)\n",
    "\n",
    "df = pd.concat(list_, ignore_index = True)\n",
    "\n",
    "df_clin = df[df['bin'].astype(float) <= float(2)]\n",
    "df_prostate_12 = df_clin"
   ]
  },
  {
   "cell_type": "markdown",
   "metadata": {},
   "source": [
    "### Import PHIAL 2 - TARGET 1"
   ]
  },
  {
   "cell_type": "code",
   "execution_count": 28,
   "metadata": {
    "collapsed": false
   },
   "outputs": [],
   "source": [
    "allFiles = glob.glob('mel-ipi/output/phial2-target1/*/*detailed.txt')\n",
    "df = pd.DataFrame()\n",
    "list_ = []\n",
    "\n",
    "for file_ in allFiles:\n",
    "    df_ = pd.read_csv(file_, index_col = None, sep = '\\t', comment = '#', low_memory = False)\n",
    "    \n",
    "    # Quick fix for fusions\n",
    "    sample_ = df_[df_['Variant_Classification'] == 'Missense_Mutation'].ix[:,'Tumor_Sample_Barcode'].unique().tolist()[0]\n",
    "    df_['Tumor_Sample_Barcode'] = sample_\n",
    "    df_ = df_.drop_duplicates(subset = ['Gene', 'Variant_Classification', 'Alteration'])\n",
    "    list_.append(df_)\n",
    "\n",
    "df = pd.concat(list_, ignore_index = True)\n",
    "\n",
    "df_clin = df[df['bin'].astype(float) <= float(2)]\n",
    "df_melanoma_21 = df_clin"
   ]
  },
  {
   "cell_type": "code",
   "execution_count": 29,
   "metadata": {
    "collapsed": true
   },
   "outputs": [],
   "source": [
    "allFiles = glob.glob('su2c/output/phial2-target1/*/*detailed.txt')\n",
    "df = pd.DataFrame()\n",
    "list_ = []\n",
    "\n",
    "for file_ in allFiles:\n",
    "    df_ = pd.read_csv(file_, index_col = None, sep = '\\t', comment = '#', low_memory = False)\n",
    "    \n",
    "    # Quick fix for fusions\n",
    "    sample_ = df_[df_['Variant_Classification'] == 'Missense_Mutation'].ix[:,'Tumor_Sample_Barcode'].unique().tolist()[0]\n",
    "    df_['Tumor_Sample_Barcode'] = sample_\n",
    "    df_ = df_.drop_duplicates(subset = ['Gene', 'Variant_Classification', 'Alteration'])\n",
    "    list_.append(df_)\n",
    "\n",
    "df = pd.concat(list_, ignore_index = True)\n",
    "\n",
    "df_clin = df[df['bin'].astype(float) <= float(2)]\n",
    "df_prostate_21 = df_clin"
   ]
  },
  {
   "cell_type": "markdown",
   "metadata": {},
   "source": [
    "### Create Comparison Figure - 4"
   ]
  },
  {
   "cell_type": "code",
   "execution_count": 30,
   "metadata": {
    "collapsed": true
   },
   "outputs": [],
   "source": [
    "type_mut = ['Missense_Mutation', 'Nonsense_Mutation', 'Splice_Site']\n",
    "type_indel = ['Frame_Shift_Del', 'Frame_Shift_Ins', 'In_Frame_Del', 'In_Frame_Ins']\n",
    "type_cnv = ['Copy Number', 'Amplification', 'Deletion']\n",
    "type_rearrangement = ['Rearrangement', 'Fusion']"
   ]
  },
  {
   "cell_type": "code",
   "execution_count": 31,
   "metadata": {
    "collapsed": true
   },
   "outputs": [],
   "source": [
    "# PHIAL1 - TARGET 1\n",
    "# Melanoma\n",
    "mel_muts_11 = df_melanoma_11[df_melanoma_11['Variant_Classification'].isin(type_mut)]\n",
    "mel_indel_11 = df_melanoma_11[df_melanoma_11['Variant_Classification'].isin(type_indel)]\n",
    "mel_cnv_11 = df_melanoma_11[df_melanoma_11['Variant_Classification'].isin(type_cnv)]\n",
    "mel_rearrangement_11 = df_melanoma_11[df_melanoma_11['Variant_Classification'].isin(type_rearrangement)]\n",
    "mel_global_11 = df_melanoma_11[df_melanoma_11['Gene'] == \"Mut Burden\"]\n",
    "\n",
    "# Prostate\n",
    "pros_muts_11 = df_prostate_11[df_prostate_11['Variant_Classification'].isin(type_mut)]\n",
    "pros_indel_11 = df_prostate_11[df_prostate_11['Variant_Classification'].isin(type_indel)]\n",
    "pros_cnv_11 = df_prostate_11[df_prostate_11['Variant_Classification'].isin(type_cnv)]\n",
    "pros_rearrangement_11 = df_prostate_11[df_prostate_11['Variant_Classification'].isin(type_rearrangement)]\n",
    "pros_global_11 = df_prostate_11[df_prostate_11['Gene'] == \"Mut Burden\"]\n"
   ]
  },
  {
   "cell_type": "code",
   "execution_count": 32,
   "metadata": {
    "collapsed": false
   },
   "outputs": [],
   "source": [
    "# PHIAL1 - TARGET 2\n",
    "# Melanoma\n",
    "mel_muts_12 = df_melanoma_12[df_melanoma_12['Variant_Classification'].isin(type_mut)]\n",
    "mel_indel_12 = df_melanoma_12[df_melanoma_12['Variant_Classification'].isin(type_indel)]\n",
    "mel_cnv_12 = df_melanoma_12[df_melanoma_12['Variant_Classification'].isin(type_cnv)]\n",
    "mel_rearrangement_12 = df_melanoma_12[df_melanoma_12['Variant_Classification'].isin(type_rearrangement)]\n",
    "mel_global_12 = df_melanoma_12[df_melanoma_12['Gene'] == \"Mut Burden\"]\n",
    "\n",
    "# Prostate\n",
    "pros_muts_12 = df_prostate_12[df_prostate_12['Variant_Classification'].isin(type_mut)]\n",
    "pros_indel_12 = df_prostate_12[df_prostate_12['Variant_Classification'].isin(type_indel)]\n",
    "pros_cnv_12 = df_prostate_12[df_prostate_12['Variant_Classification'].isin(type_cnv)]\n",
    "pros_rearrangement_12 = df_prostate_12[df_prostate_12['Variant_Classification'].isin(type_rearrangement)]\n",
    "pros_global_12 = df_prostate_12[df_prostate_12['Gene'] == \"Mut Burden\"]"
   ]
  },
  {
   "cell_type": "code",
   "execution_count": 33,
   "metadata": {
    "collapsed": true
   },
   "outputs": [],
   "source": [
    "# PHIAL2 - TARGET 1\n",
    "# Melanoma\n",
    "mel_muts_21 = df_melanoma_21[df_melanoma_21['Variant_Classification'].isin(type_mut)]\n",
    "mel_indel_21 = df_melanoma_21[df_melanoma_21['Variant_Classification'].isin(type_indel)]\n",
    "mel_cnv_21 = df_melanoma_21[df_melanoma_21['Variant_Classification'].isin(type_cnv)]\n",
    "mel_rearrangement_21 = df_melanoma_21[df_melanoma_21['Variant_Classification'].isin(type_rearrangement)]\n",
    "mel_global_21 = df_melanoma_21[df_melanoma_21['Gene'] == \"Mut Burden\"]\n",
    "\n",
    "# Prostate\n",
    "pros_muts_21 = df_prostate_21[df_prostate_21['Variant_Classification'].isin(type_mut)]\n",
    "pros_indel_21 = df_prostate_21[df_prostate_21['Variant_Classification'].isin(type_indel)]\n",
    "pros_cnv_21 = df_prostate_21[df_prostate_21['Variant_Classification'].isin(type_cnv)]\n",
    "pros_rearrangement_21 = df_prostate_21[df_prostate_21['Variant_Classification'].isin(type_rearrangement)]\n",
    "pros_global_21 = df_prostate_21[df_prostate_21['Gene'] == \"Mut Burden\"]\n"
   ]
  },
  {
   "cell_type": "code",
   "execution_count": 34,
   "metadata": {
    "collapsed": true
   },
   "outputs": [],
   "source": [
    "# PHIAL2 - TARGET 2\n",
    "# Melanoma\n",
    "mel_muts_22 = df_melanoma_22[df_melanoma_22['Variant_Classification'].isin(type_mut)]\n",
    "mel_indel_22 = df_melanoma_22[df_melanoma_22['Variant_Classification'].isin(type_indel)]\n",
    "mel_cnv_22 = df_melanoma_22[df_melanoma_22['Variant_Classification'].isin(type_cnv)]\n",
    "mel_rearrangement_22 = df_melanoma_22[df_melanoma_22['Variant_Classification'].isin(type_rearrangement)]\n",
    "mel_global_22 = df_melanoma_22[df_melanoma_22['Gene'] == \"Mut Burden\"]\n",
    "\n",
    "# Prostate\n",
    "pros_muts_22 = df_prostate_22[df_prostate_22['Variant_Classification'].isin(type_mut)]\n",
    "pros_indel_22 = df_prostate_22[df_prostate_22['Variant_Classification'].isin(type_indel)]\n",
    "pros_cnv_22 = df_prostate_22[df_prostate_22['Variant_Classification'].isin(type_cnv)]\n",
    "pros_rearrangement_22 = df_prostate_22[df_prostate_22['Variant_Classification'].isin(type_rearrangement)]\n",
    "pros_global_22 = df_prostate_22[df_prostate_22['Gene'] == \"Mut Burden\"]\n"
   ]
  },
  {
   "cell_type": "code",
   "execution_count": 35,
   "metadata": {
    "collapsed": false
   },
   "outputs": [
    {
     "data": {
      "image/png": "[encoded data removed]",
      "text/plain": [
       "<matplotlib.figure.Figure at 0x114cc2ed0>"
      ]
     },
     "metadata": {},
     "output_type": "display_data"
    }
   ],
   "source": [
    "fig = plt.figure(figsize = (15, 6))\n",
    "\n",
    "ax = plt.subplot()\n",
    "ax.spines[\"top\"].set_visible(False)    \n",
    "ax.spines[\"bottom\"].set_visible(False)    \n",
    "ax.spines[\"right\"].set_visible(False)    \n",
    "ax.spines[\"left\"].set_visible(False)\n",
    "plt.tick_params(axis=\"both\", which=\"both\", bottom=\"off\", top=\"off\",\n",
    "    labelbottom=\"on\", left=\"off\", right=\"off\", labelleft=\"on\")  \n",
    "\n",
    "colors = [tableau10[0], tableau10[2], tableau10[4], tableau10[6], tableau10[5]]\n",
    "labels = ['SNVs', 'Indels', 'CNVs', 'Fusions', 'Global']\n",
    "width = 0.3\n",
    "\n",
    "# --------- PHIAL1-TARGET1 -----------\n",
    "plt.bar(0.84, len(mel_muts_11), width, color = colors[0], align = 'center')\n",
    "plt.bar(0.84, len(mel_indel_11), width, color = colors[1], align = 'center',\n",
    "        bottom = len(mel_muts_11))\n",
    "plt.bar(0.84, len(mel_cnv_11), width, color = colors[2], align = 'center', \n",
    "        bottom = len(mel_muts_11) + len(mel_indel_11))\n",
    "plt.bar(0.84, len(mel_rearrangement_11), width, color = colors[3], align = 'center',\n",
    "        bottom = len(mel_muts_11) + len(mel_indel_11) + len(mel_cnv_11))\n",
    "plt.bar(0.84, len(mel_global_11), width, color = colors[4], align = 'center',\n",
    "        bottom = len(mel_muts_11) + len(mel_indel_11) + len(mel_cnv_11) + len(mel_rearrangement_11))\n",
    "\n",
    "plt.bar(1.16, len(pros_muts_11), width, color = colors[0], align = 'center')\n",
    "plt.bar(1.16, len(pros_indel_11), width, color = colors[1], align = 'center',\n",
    "        bottom = len(pros_muts_11))\n",
    "plt.bar(1.16, len(pros_cnv_11), width, color = colors[2], align = 'center', \n",
    "        bottom = len(pros_muts_11) + len(pros_indel_11))\n",
    "plt.bar(1.16, len(pros_rearrangement_11), width, color = colors[3], align = 'center',\n",
    "        bottom = len(pros_muts_11) + len(pros_indel_11) + len(pros_cnv_11))\n",
    "plt.bar(1.16, len(pros_global_11), width, color = colors[4], align = 'center',\n",
    "        bottom = len(pros_muts_11) + len(pros_indel_11) + len(pros_cnv_11) + len(pros_rearrangement_11))\n",
    "\n",
    "# --------- PHIAL1-TARGET2 -----------\n",
    "\n",
    "plt.bar(1.84, len(mel_muts_12), width, color = colors[0], align = 'center')\n",
    "plt.bar(1.84, len(mel_indel_12), width, color = colors[1], align = 'center',\n",
    "        bottom = len(mel_muts_12))\n",
    "plt.bar(1.84, len(mel_cnv_12), width, color = colors[2], align = 'center', \n",
    "        bottom = len(mel_muts_12) + len(mel_indel_12))\n",
    "plt.bar(1.84, len(mel_rearrangement_12), width, color = colors[3], align = 'center',\n",
    "        bottom = len(mel_muts_12) + len(mel_indel_12) + len(mel_cnv_12))\n",
    "plt.bar(1.84, len(mel_global_12), width, color = colors[4], align = 'center',\n",
    "        bottom = len(mel_muts_12) + len(mel_indel_12) + len(mel_cnv_12) + len(mel_rearrangement_12))\n",
    "\n",
    "plt.bar(2.16, len(pros_muts_12), width, color = colors[0], align = 'center')\n",
    "plt.bar(2.16, len(pros_indel_12), width, color = colors[1], align = 'center',\n",
    "        bottom = len(pros_muts_12))\n",
    "plt.bar(2.16, len(pros_cnv_12), width, color = colors[2], align = 'center', \n",
    "        bottom = len(pros_muts_12) + len(pros_indel_12))\n",
    "plt.bar(2.16, len(pros_rearrangement_12), width, color = colors[3], align = 'center',\n",
    "        bottom = len(pros_muts_12) + len(pros_indel_12) + len(pros_cnv_12))\n",
    "plt.bar(2.16, len(pros_global_12), width, color = colors[4], align = 'center',\n",
    "        bottom = len(pros_muts_12) + len(pros_indel_12) + len(pros_cnv_12) + len(pros_rearrangement_12))\n",
    "\n",
    "# --------- PHIAL2-TARGET1 -----------\n",
    "plt.bar(2.84, len(mel_muts_21), width, color = colors[0], align = 'center')\n",
    "plt.bar(2.84, len(mel_indel_21), width, color = colors[1], align = 'center',\n",
    "        bottom = len(mel_muts_21))\n",
    "plt.bar(2.84, len(mel_cnv_21), width, color = colors[2], align = 'center', \n",
    "        bottom = len(mel_muts_21) + len(mel_indel_21))\n",
    "plt.bar(2.84, len(mel_rearrangement_21), width, color = colors[3], align = 'center',\n",
    "        bottom = len(mel_muts_21) + len(mel_indel_22) + len(mel_cnv_21))\n",
    "plt.bar(2.84, len(mel_global_21), width, color = colors[4], align = 'center',\n",
    "        bottom = len(mel_muts_21) + len(mel_indel_21) + len(mel_cnv_21) + len(mel_rearrangement_21))\n",
    "\n",
    "plt.bar(3.16, len(pros_muts_21), width, color = colors[0], align = 'center')\n",
    "plt.bar(3.16, len(pros_indel_21), width, color = colors[1], align = 'center',\n",
    "        bottom = len(pros_muts_21))\n",
    "plt.bar(3.16, len(pros_cnv_21), width, color = colors[2], align = 'center', \n",
    "        bottom = len(pros_muts_21) + len(pros_indel_21))\n",
    "plt.bar(3.16, len(pros_rearrangement_21), width, color = colors[3], align = 'center',\n",
    "        bottom = len(pros_muts_21) + len(pros_indel_21) + len(pros_cnv_21))\n",
    "plt.bar(3.16, len(pros_global_21), width, color = colors[4], align = 'center',\n",
    "        bottom = len(pros_muts_21) + len(pros_indel_21) + len(pros_cnv_21) + len(pros_rearrangement_21))\n",
    "\n",
    "# --------- PHIAL2-TARGET2 -----------\n",
    "plt.bar(3.84, len(mel_muts_22), width, color = colors[0], align = 'center')\n",
    "plt.bar(3.84, len(mel_indel_22), width, color = colors[1], align = 'center',\n",
    "        bottom = len(mel_muts_22))\n",
    "plt.bar(3.84, len(mel_cnv_22), width, color = colors[2], align = 'center', \n",
    "        bottom = len(mel_muts_22) + len(mel_indel_22))\n",
    "plt.bar(3.84, len(mel_rearrangement_22), width, color = colors[3], align = 'center',\n",
    "        bottom = len(mel_muts_22) + len(mel_indel_22) + len(mel_cnv_22))\n",
    "plt.bar(3.84, len(mel_global_22), width, color = colors[4], align = 'center',\n",
    "        bottom = len(mel_muts_22) + len(mel_indel_22) + len(mel_cnv_22) + len(mel_rearrangement_22))\n",
    "\n",
    "plt.bar(4.16, len(pros_muts_22), width, label = labels[0], color = colors[0], align = 'center')\n",
    "plt.bar(4.16, len(pros_indel_22), width, label = labels[1], color = colors[1], align = 'center',\n",
    "        bottom = len(pros_muts_22))\n",
    "plt.bar(4.16, len(pros_cnv_22), width, label = labels[2], color = colors[2], align = 'center', \n",
    "        bottom = len(pros_muts_22) + len(pros_indel_22))\n",
    "plt.bar(4.16, len(pros_rearrangement_22), width, label = labels[3], color = colors[3], align = 'center',\n",
    "        bottom = len(pros_muts_22) + len(pros_indel_22) + len(pros_cnv_22))\n",
    "plt.bar(4.16, len(pros_global_22), width, color = colors[4], align = 'center',\n",
    "        bottom = len(pros_muts_22) + len(pros_indel_22) + len(pros_cnv_22) + len(pros_rearrangement_22))\n",
    "\n",
    "plt.ylim([-2, 1100])\n",
    "plt.xlim([0.5,4.5])\n",
    "plt.ylabel('# of putatively actionable or \\n biologically relevant alterations', fontsize = 13)\n",
    "\n",
    "labels = ['Melanoma', 'Prostate', 'Melanoma', 'Prostate', 'Melanoma', 'Prostate', 'Melanoma', 'Prostate']\n",
    "ax.set_xticks([0.84, 1.16, 1.84, 2.16, 2.84, 3.16, 3.84, 4.16])\n",
    "ax.set_xticklabels(labels, fontsize = 11)\n",
    "\n",
    "\n",
    "plt.title('PHIAL & TARGET, Version Comparison \\n Melanoma (n = 110) and Prostate (n = 150)', y = 1.05, fontsize = 16)\n",
    "plt.legend(loc = 2, ncol = 2, frameon=False, bbox_to_anchor = (0.78, 1.05))\n",
    "\n",
    "plt.text(0.75, -100,'PHIAL1-TARGET1', fontsize = 13)\n",
    "plt.text(1.75, -100,'PHIAL1-TARGET2', fontsize = 13)\n",
    "plt.text(2.75, -100,'PHIAL2-TARGET1', fontsize = 13)\n",
    "plt.text(3.75, -100,'PHIAL2-TARGET2', fontsize = 13)\n",
    "\n",
    "plt.gca().yaxis.grid(True)\n",
    "plt.show()"
   ]
  },
  {
   "cell_type": "markdown",
   "metadata": {
    "collapsed": true
   },
   "source": [
    "### Create Comparison Figure - 2"
   ]
  },
  {
   "cell_type": "code",
   "execution_count": 70,
   "metadata": {
    "collapsed": false
   },
   "outputs": [
    {
     "data": {
      "image/png": "[encoded data removed]",
      "text/plain": [
       "<matplotlib.figure.Figure at 0x11775d490>"
      ]
     },
     "metadata": {},
     "output_type": "display_data"
    }
   ],
   "source": [
    "fig = plt.figure(figsize = (9, 6))\n",
    "\n",
    "ax = plt.subplot()\n",
    "ax.spines[\"top\"].set_visible(False)    \n",
    "ax.spines[\"bottom\"].set_visible(False)    \n",
    "ax.spines[\"right\"].set_visible(False)    \n",
    "ax.spines[\"left\"].set_visible(False)\n",
    "plt.tick_params(axis=\"both\", which=\"both\", bottom=\"off\", top=\"off\",\n",
    "    labelbottom=\"on\", left=\"off\", right=\"off\", labelleft=\"on\")  \n",
    "\n",
    "colors = [tableau10[0], tableau10[2], tableau10[4], tableau10[6], tableau10[5]]\n",
    "labels = ['SNVs', 'Indels', 'CNVs', 'Fusions', 'Global']\n",
    "width = 0.3\n",
    "\n",
    "# --------- PHIAL1-TARGET1 -----------\n",
    "plt.bar(0.84, len(mel_muts_11), width, color = colors[0], align = 'center')\n",
    "plt.bar(0.84, len(mel_indel_11), width, color = colors[1], align = 'center',\n",
    "        bottom = len(mel_muts_11))\n",
    "plt.bar(0.84, len(mel_cnv_11), width, color = colors[2], align = 'center', \n",
    "        bottom = len(mel_muts_11) + len(mel_indel_11))\n",
    "plt.bar(0.84, len(mel_rearrangement_11), width, color = colors[3], align = 'center',\n",
    "        bottom = len(mel_muts_11) + len(mel_indel_11) + len(mel_cnv_11))\n",
    "plt.bar(0.84, len(mel_global_11), width, color = colors[4], align = 'center',\n",
    "        bottom = len(mel_muts_11) + len(mel_indel_11) + len(mel_cnv_11) + len(mel_rearrangement_11))\n",
    "\n",
    "plt.bar(1.16, len(pros_muts_11), width, color = colors[0], align = 'center')\n",
    "plt.bar(1.16, len(pros_indel_11), width, color = colors[1], align = 'center',\n",
    "        bottom = len(pros_muts_11))\n",
    "plt.bar(1.16, len(pros_cnv_11), width, color = colors[2], align = 'center', \n",
    "        bottom = len(pros_muts_11) + len(pros_indel_11))\n",
    "plt.bar(1.16, len(pros_rearrangement_11), width, color = colors[3], align = 'center',\n",
    "        bottom = len(pros_muts_11) + len(pros_indel_11) + len(pros_cnv_11))\n",
    "plt.bar(1.16, len(pros_global_11), width, color = colors[4], align = 'center',\n",
    "        bottom = len(pros_muts_11) + len(pros_indel_11) + len(pros_cnv_11) + len(pros_rearrangement_11))\n",
    "\n",
    "# --------- PHIAL2-TARGET2 -----------\n",
    "plt.bar(1.84, len(mel_muts_22), width, color = colors[0], align = 'center')\n",
    "plt.bar(1.84, len(mel_indel_22), width, color = colors[1], align = 'center',\n",
    "        bottom = len(mel_muts_22))\n",
    "plt.bar(1.84, len(mel_cnv_22), width, color = colors[2], align = 'center', \n",
    "        bottom = len(mel_muts_22) + len(mel_indel_22))\n",
    "plt.bar(1.84, len(mel_rearrangement_22), width, color = colors[3], align = 'center',\n",
    "        bottom = len(mel_muts_22) + len(mel_indel_22) + len(mel_cnv_22))\n",
    "plt.bar(1.84, len(mel_global_22), width, color = colors[4], align = 'center',\n",
    "        bottom = len(mel_muts_22) + len(mel_indel_22) + len(mel_cnv_22) + len(mel_rearrangement_22))\n",
    "\n",
    "plt.bar(2.16, len(pros_muts_22), width, label = labels[0], color = colors[0], align = 'center')\n",
    "plt.bar(2.16, len(pros_indel_22), width, label = labels[1], color = colors[1], align = 'center',\n",
    "        bottom = len(pros_muts_22))\n",
    "plt.bar(2.16, len(pros_cnv_22), width, label = labels[2], color = colors[2], align = 'center', \n",
    "        bottom = len(pros_muts_22) + len(pros_indel_22))\n",
    "plt.bar(2.16, len(pros_rearrangement_22), width, label = labels[3], color = colors[3], align = 'center',\n",
    "        bottom = len(pros_muts_22) + len(pros_indel_22) + len(pros_cnv_22))\n",
    "plt.bar(2.16, len(pros_global_22), width, color = colors[4], align = 'center',\n",
    "        bottom = len(pros_muts_22) + len(pros_indel_22) + len(pros_cnv_22) + len(pros_rearrangement_22))\n",
    "\n",
    "plt.ylim([-2, 1100])\n",
    "plt.xlim([0.5,2.5])\n",
    "plt.ylabel('# of putatively actionable or \\n biologically relevant alterations', fontsize = 13)\n",
    "\n",
    "labels = ['Melanoma', 'Prostate', 'Melanoma', 'Prostate', 'Melanoma', 'Prostate', 'Melanoma', 'Prostate']\n",
    "ax.set_xticks([0.84, 1.16, 1.84, 2.16])\n",
    "ax.set_xticklabels(labels, fontsize = 11)\n",
    "\n",
    "\n",
    "plt.title('PHIAL & TARGET, Version Comparison \\n Melanoma (n = 110) and Prostate (n = 150)', y = 1.05, fontsize = 16)\n",
    "plt.legend(loc = 2, ncol = 2, frameon=False, bbox_to_anchor = (0.65, 1.05), handletextpad=0.5)\n",
    "\n",
    "plt.text(0.81, -100,'PHIAL1-TARGET1', fontsize = 13)\n",
    "plt.text(1.81, -100,'PHIAL1-TARGET2', fontsize = 13)\n",
    "\n",
    "plt.gca().yaxis.grid(True)\n",
    "#plt.show()\n",
    "plt.savefig('version_comparison.pdf', bbox_inches='tight')"
   ]
  },
  {
   "cell_type": "markdown",
   "metadata": {},
   "source": [
    "## % Clinical Trial and FDA"
   ]
  },
  {
   "cell_type": "code",
   "execution_count": 36,
   "metadata": {
    "collapsed": false
   },
   "outputs": [],
   "source": [
    "FDA_variants = 0\n",
    "FDA_variants += len(df_melanoma_22[df_melanoma_22['Score_bin_Sensitive'] == \"FDA-Approved\"])\n",
    "FDA_variants += len(df_melanoma_22[df_melanoma_22['Score_bin_Resistant'] == \"FDA-Approved\"])\n",
    "FDA_variants += len(df_prostate_22[df_prostate_22['Score_bin_Sensitive'] == \"FDA-Approved\"])\n",
    "FDA_variants += len(df_prostate_22[df_prostate_22['Score_bin_Resistant'] == \"FDA-Approved\"])"
   ]
  },
  {
   "cell_type": "code",
   "execution_count": 37,
   "metadata": {
    "collapsed": false
   },
   "outputs": [
    {
     "data": {
      "text/plain": [
       "0.17227378190255221"
      ]
     },
     "execution_count": 37,
     "metadata": {},
     "output_type": "execute_result"
    }
   ],
   "source": [
    "float(FDA_variants) / float(len(df_prostate_22) + len(df_melanoma_22))"
   ]
  },
  {
   "cell_type": "code",
   "execution_count": 38,
   "metadata": {
    "collapsed": false
   },
   "outputs": [],
   "source": [
    "FDA_variants = 0\n",
    "\n",
    "fda_status = (df_melanoma_22['Score_bin_Sensitive'] == 'FDA-Approved') | (df_melanoma_22['Score_bin_Resistant'] == 'FDA-Approved')\n",
    "FDA_variants += len(df_melanoma_22[fda_status])\n",
    "\n",
    "fda_status = (df_prostate_22['Score_bin_Sensitive'] == 'FDA-Approved') | (df_prostate_22['Score_bin_Resistant'] == 'FDA-Approved')\n",
    "FDA_variants += len(df_prostate_22[fda_status])"
   ]
  },
  {
   "cell_type": "code",
   "execution_count": 39,
   "metadata": {
    "collapsed": false
   },
   "outputs": [
    {
     "data": {
      "text/plain": [
       "0.14501160092807425"
      ]
     },
     "execution_count": 39,
     "metadata": {},
     "output_type": "execute_result"
    }
   ],
   "source": [
    "float(FDA_variants) / float(len(df_prostate_22) + len(df_melanoma_22))"
   ]
  },
  {
   "cell_type": "code",
   "execution_count": 40,
   "metadata": {
    "collapsed": false
   },
   "outputs": [],
   "source": [
    "CT_variants = 0\n",
    "\n",
    "ct_status = (df_melanoma_22['Score_bin_Sensitive'] == 'Level A') | (df_melanoma_22['Score_bin_Resistant'] == 'Level A')\n",
    "CT_variants += len(df_melanoma_22[ct_status])\n",
    "\n",
    "ct_status = (df_prostate_22['Score_bin_Sensitive'] == 'Level A') | (df_prostate_22['Score_bin_Resistant'] == 'Level A')\n",
    "CT_variants += len(df_prostate_22[ct_status])"
   ]
  },
  {
   "cell_type": "code",
   "execution_count": 41,
   "metadata": {
    "collapsed": false
   },
   "outputs": [
    {
     "data": {
      "text/plain": [
       "0.08990719257540604"
      ]
     },
     "execution_count": 41,
     "metadata": {},
     "output_type": "execute_result"
    }
   ],
   "source": [
    "float(CT_variants) / float(len(df_prostate_22) + len(df_melanoma_22))"
   ]
  },
  {
   "cell_type": "code",
   "execution_count": null,
   "metadata": {
    "collapsed": true
   },
   "outputs": [],
   "source": []
  }
 ],
 "metadata": {
  "kernelspec": {
   "display_name": "Python 2",
   "language": "python",
   "name": "python2"
  },
  "language_info": {
   "codemirror_mode": {
    "name": "ipython",
    "version": 2
   },
   "file_extension": ".py",
   "mimetype": "text/x-python",
   "name": "python",
   "nbconvert_exporter": "python",
   "pygments_lexer": "ipython2",
   "version": "2.7.11"
  }
 },
 "nbformat": 4,
 "nbformat_minor": 0
}
